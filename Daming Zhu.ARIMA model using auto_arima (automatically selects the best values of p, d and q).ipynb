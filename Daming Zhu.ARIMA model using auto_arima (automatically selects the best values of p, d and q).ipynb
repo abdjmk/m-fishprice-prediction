{
 "cells": [
  {
   "cell_type": "code",
   "execution_count": null,
   "metadata": {},
   "outputs": [],
   "source": [
    "import numpy as np\n",
    "import pandas as pd\n",
    "from pmdarima.arima import auto_arima\n",
    "from sklearn.metrics import mean_absolute_error, mean_squared_error, r2_score\n"
   ]
  },
  {
   "cell_type": "code",
   "execution_count": null,
   "metadata": {},
   "outputs": [],
   "source": [
    "# Load the dataset\n",
    "data = pd.read_csv('data_set_process.csv', index_col='date', parse_dates=True)"
   ]
  },
  {
   "cell_type": "code",
   "execution_count": null,
   "metadata": {},
   "outputs": [],
   "source": [
    "# Split the dataset into training and test sets\n",
    "train_data, test_data = data.iloc[:int(len(data)*0.8)], data.iloc[int(len(data)*0.8):]"
   ]
  },
  {
   "cell_type": "code",
   "execution_count": null,
   "metadata": {},
   "outputs": [],
   "source": [
    "# Fit the ARIMA model with automatic order selection\n",
    "arima_model = auto_arima(train_data, seasonal=False, suppress_warnings=True, error_action='ignore')"
   ]
  },
  {
   "cell_type": "code",
   "execution_count": null,
   "metadata": {},
   "outputs": [],
   "source": [
    "# Make predictions on the test set\n",
    "y_pred, conf_int = arima_model.predict(n_periods=len(test_data), return_conf_int=True)"
   ]
  },
  {
   "cell_type": "code",
   "execution_count": null,
   "metadata": {},
   "outputs": [],
   "source": [
    "# Calculate evaluation metrics and print the results\n",
    "mae = mean_absolute_error(test_data, y_pred)\n",
    "mse = mean_squared_error(test_data, y_pred)\n",
    "rmse = np.sqrt(mse)\n",
    "r2 = r2_score(test_data, y_pred)\n",
    "print('MAE: {}'.format(mae))\n",
    "print('MSE: {}'.format(mse))\n",
    "print('RMSE: {}'.format(rmse))\n",
    "print('R^2: {}'.format(r2))\n"
   ]
  }
 ],
 "metadata": {
  "language_info": {
   "name": "python"
  },
  "orig_nbformat": 4
 },
 "nbformat": 4,
 "nbformat_minor": 2
}
