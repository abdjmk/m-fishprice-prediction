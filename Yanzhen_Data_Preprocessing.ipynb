{
 "cells": [
  {
   "cell_type": "code",
   "execution_count": 11,
   "id": "ea0eea06",
   "metadata": {},
   "outputs": [],
   "source": [
    "import pandas as pd\n",
    "import numpy as np\n",
    "from pandas_profiling import ProfileReport"
   ]
  },
  {
   "cell_type": "code",
   "execution_count": 14,
   "id": "c671f83a",
   "metadata": {},
   "outputs": [
    {
     "name": "stdout",
     "output_type": "stream",
     "text": [
      "    ANO         LITORAL   ENTIDAD    MES   GRUPO NOMBRE_PRINCIPAL_ESPECIE  \\\n",
      "0  2018  GOLFO Y CARIBE  CAMPECHE  ENERO  ANIMAL                ANCHOVETA   \n",
      "1  2018  GOLFO Y CARIBE  CAMPECHE  ENERO  ANIMAL                    BAGRE   \n",
      "2  2018  GOLFO Y CARIBE  CAMPECHE  ENERO  ANIMAL                    BAGRE   \n",
      "3  2018  GOLFO Y CARIBE  CAMPECHE  ENERO  ANIMAL                  BANDERA   \n",
      "4  2018  GOLFO Y CARIBE  CAMPECHE  ENERO  ANIMAL                BERRUGATA   \n",
      "\n",
      "    ORIGEN ORIGEN DEL CAMARON         TIPO_AGUA                 DESTINO  \\\n",
      "0  CAPTURA          NO APLICA  SALOBRE / MARINA  CONSUMO HUMANO DIRECTO   \n",
      "1  CAPTURA          NO APLICA             DULCE  CONSUMO HUMANO DIRECTO   \n",
      "2  CAPTURA          NO APLICA  SALOBRE / MARINA  CONSUMO HUMANO DIRECTO   \n",
      "3  CAPTURA          NO APLICA  SALOBRE / MARINA  CONSUMO HUMANO DIRECTO   \n",
      "4  CAPTURA          NO APLICA  SALOBRE / MARINA  CONSUMO HUMANO DIRECTO   \n",
      "\n",
      "  ACUACULTURA  PESO_DESEMBARCADO_KG  PESO_VIVO_KG  VALOR_MEXICAN_PESOS  \n",
      "0   NO APLICA                292.50        308.50         2.654417e+03  \n",
      "1   NO APLICA                334.40        334.40         1.814110e+03  \n",
      "2   NO APLICA               6765.52       6765.52         5.218646e+04  \n",
      "3   NO APLICA             152706.80     152706.80         1.390233e+06  \n",
      "4   NO APLICA              23780.40      23780.40         1.402300e+05  \n"
     ]
    },
    {
     "data": {
      "text/plain": [
       "array(['ANO', 'LITORAL', 'ENTIDAD', 'MES', 'GRUPO',\n",
       "       'NOMBRE_PRINCIPAL_ESPECIE', 'ORIGEN', 'ORIGEN DEL CAMARON',\n",
       "       'TIPO_AGUA', 'DESTINO', 'ACUACULTURA', 'PESO_DESEMBARCADO_KG',\n",
       "       'PESO_VIVO_KG', 'VALOR_MEXICAN_PESOS'], dtype=object)"
      ]
     },
     "execution_count": 14,
     "metadata": {},
     "output_type": "execute_result"
    }
   ],
   "source": [
    "# df = pd.read_csv('Fisheries_Production_Mexico_2005to2018.csv')\n",
    "df = pd.read_csv('Fisheries_Production_Mexico_2005to2018.csv', encoding='latin-1')\n",
    "print(df.head())\n",
    "\n",
    "df.columns.values"
   ]
  },
  {
   "cell_type": "code",
   "execution_count": 15,
   "id": "2b1a9958",
   "metadata": {},
   "outputs": [],
   "source": [
    "# Dictionary mapping assignments for Yanzhen Xu n Jamak\n",
    "# ANO until Origen - Yanzhen Xu\n",
    "# ORIGEN DEL CAMARON - VALOR_MEXICAN_PESOS - Jamak"
   ]
  },
  {
   "cell_type": "code",
   "execution_count": 16,
   "id": "ca660bc7",
   "metadata": {},
   "outputs": [
    {
     "data": {
      "text/plain": [
       "array(['YEAR', 'COAST', 'ENTITY', 'MONTH', 'GROUP', 'MAIN_SPECIES_NAME',\n",
       "       'ORIGIN', 'ORIGIN_OF_THE_SHRIMP', 'WATER_TYPE', 'DESTINATION',\n",
       "       'AQUACULTURE', 'LANDED_WEIGHT_KG', 'LIVE_WEIGHT_KG',\n",
       "       'VALUE_MEXICAN_PESOS'], dtype=object)"
      ]
     },
     "execution_count": 16,
     "metadata": {},
     "output_type": "execute_result"
    }
   ],
   "source": [
    "# Define a dictionary mapping column names\n",
    "mapping = {'ANO': 'YEAR', 'LITORAL': 'COAST','ENTIDAD':'ENTITY','MES':'MONTH','GRUPO':'GROUP','NOMBRE_PRINCIPAL_ESPECIE':'MAIN_SPECIES_NAME'\n",
    "            ,'ORIGEN':'ORIGIN','ORIGEN DEL CAMARON':'ORIGIN_OF_THE_SHRIMP','TIPO_AGUA':'WATER_TYPE','DESTINO':'DESTINATION','ACUACULTURA':'AQUACULTURE'\n",
    "            ,'PESO_DESEMBARCADO_KG':'LANDED_WEIGHT_KG','PESO_VIVO_KG':'LIVE_WEIGHT_KG','VALOR_MEXICAN_PESOS':'VALUE_MEXICAN_PESOS'}\n",
    "\n",
    "# Use the rename() method to apply the mapping\n",
    "df = df.rename(columns=mapping)\n",
    "df.columns.values"
   ]
  },
  {
   "cell_type": "code",
   "execution_count": 17,
   "id": "263ac297",
   "metadata": {},
   "outputs": [
    {
     "name": "stdout",
     "output_type": "stream",
     "text": [
      "[2018 2005 2017 2006 2007 2008 2009 2010 2011 2012 2013 2014 2015 2016]\n",
      "['GOLFO Y CARIBE' 'PACIFICO' 'SIN LITORAL']\n",
      "['CAMPECHE' 'QUINTANA ROO' 'TABASCO' 'TAMAULIPAS' 'VERACRUZ' 'YUCATAN'\n",
      " 'BAJA CALIFORNIA' 'BAJA CALIFORNIA SUR' 'CHIAPAS' 'COLIMA' 'GUERRERO'\n",
      " 'JALISCO' 'MICHOACAN' 'NAYARIT' 'OAXACA' 'SINALOA' 'SONORA'\n",
      " 'AGUASCALIENTES' 'CHIHUAHUA' 'COAHUILA' 'DURANGO' 'GUANAJUATO' 'HIDALGO'\n",
      " 'MEXICO' 'MORELOS' 'NUEVO LEON' 'PUEBLA' 'QUERETARO' 'SAN LUIS POTOSI'\n",
      " 'TLAXCALA' 'ZACATECAS']\n",
      "['ANIMAL' 'VEGETAL']\n",
      "['ANCHOVETA' 'BAGRE' 'BANDERA' 'BERRUGATA' 'BESUGO' 'BONITO' 'CABRILLA'\n",
      " 'CAMARON' 'CARPA' 'CAZON' 'CHARAL' 'CORVINA' 'ESMEDREGAL'\n",
      " 'FAUNA DE ACOMPAÑAMIENTO' 'GUACHINANGO' 'JAIBA' 'JUREL' 'LANGOSTINO'\n",
      " 'LEBRANCHA' 'LISA' 'MERO' 'MOJARRA' 'OSTION' 'OTRAS' 'PAMPANO' 'PARGO'\n",
      " 'PETO' 'RAYA Y SIMILARES' 'ROBALO' 'RUBIA Y VILLAJAIBA' 'RUBIO' 'SIERRA'\n",
      " 'TIBURON' 'RONCO' 'SARDINA' 'BARRILETE' 'CARACOL' 'CINTILLA' 'TRUCHA'\n",
      " 'CALAMAR' 'PULPO' 'LANGOSTA' 'PECES DE ORNATO' 'ALMEJA' 'LENGUADO'\n",
      " 'LOBINA' 'ATUN' 'SARGAZO' 'PEPINO DE MAR' 'PIERNA' 'ABULON' 'BAQUETA'\n",
      " 'ERIZO' 'MACARELA' 'ALGAS' 'CAPTURA SIN REGISTRO OFICIAL'\n",
      " 'PEPINO DE MAR ']\n",
      "['CAPTURA' 'ACUACULTURA']\n"
     ]
    }
   ],
   "source": [
    "###### Yanzhen Xu ######\n",
    "# print unique values in ORIGIN_OF_THE_SHRIMP\n",
    "print(df['YEAR'].unique())\n",
    "# print unique values in WATER_TYPE\n",
    "print(df['COAST'].unique())\n",
    "# print unique values in DESTINATION\n",
    "print(df['ENTITY'].unique())\n",
    "# print unique values in DESTINATION\n",
    "print(df['GROUP'].unique())\n",
    "# print unique values in DESTINATION\n",
    "print(df['MAIN_SPECIES_NAME'].unique())\n",
    "# print unique values in DESTINATION\n",
    "print(df['ORIGIN'].unique())"
   ]
  },
  {
   "cell_type": "code",
   "execution_count": 18,
   "id": "814ffcef",
   "metadata": {
    "scrolled": true
   },
   "outputs": [
    {
     "name": "stdout",
     "output_type": "stream",
     "text": [
      "Gulf and Caribbean\n",
      "PEACEFUL\n",
      "LANDLOCKED\n"
     ]
    }
   ],
   "source": [
    "#Translation for 'LITORAL'\n",
    "from googletrans import Translator\n",
    "\n",
    "translator = Translator()\n",
    "\n",
    "text1 = \"GOLFO Y CARIBE\"\n",
    "text2 = \"PACIFICO\"\n",
    "text3 = \"SIN LITORAL\"\n",
    "\n",
    "translated_text1 = translator.translate(text1, src='es', dest='en')\n",
    "translated_text2 = translator.translate(text2, src='es', dest='en')\n",
    "translated_text3 = translator.translate(text3, src='es', dest='en')\n",
    "\n",
    "print(translated_text1.text)\n",
    "print(translated_text2.text)\n",
    "print(translated_text3.text)\n"
   ]
  },
  {
   "cell_type": "code",
   "execution_count": 22,
   "id": "f49b9132",
   "metadata": {},
   "outputs": [],
   "source": [
    "# Define the dictionary mapping column names for 'LITORAL'\n",
    "mapping_Yanzhen_Xu = {'GOLFO Y CARIBE': 'Gulf and Caribbean', 'PACIFICO': 'PEACEFUL','SIN LITORAL':'LANDLOCKED'}\n",
    "df = df.replace(mapping_Yanzhen_Xu)\n",
    "\n",
    "\n",
    "df.to_csv('my_data.csv', index=True)\n"
   ]
  },
  {
   "cell_type": "code",
   "execution_count": 29,
   "id": "8e47b8d0",
   "metadata": {},
   "outputs": [
    {
     "name": "stdout",
     "output_type": "stream",
     "text": [
      "{\"'AGUASCALIENTES',\": \"'Aguascalientes',\", \"'BAJA\": \"'LOW\", \"CALIFORNIA',\": \"CALIFORNIA',\", 'CALIFORNIA': 'CALIFORNIA', \"SUR',\": \"SOUTH',\", \"'CAMPECHE',\": \"'Campeche',\", \"'CHIAPAS',\": \"'Chiapas',\", \"'CHIHUAHUA',\": \"'Chihuahua',\", \"'COAHUILA',\": \"'COAHUILA',\", \"'COLIMA',\": \"'Colima',\", \"'DURANGO',\": \"'Durango',\", \"'GUANAJUATO',\": \"'Guanajuato',\", \"'GUERRERO',\": \"'WARRIOR',\", \"'HIDALGO',\": \"'GENTLEMAN',\", \"'JALISCO',\": \"'Jalisco',\", \"'MEXICO',\": \"'MEXICO',\", \"'MICHOACAN',\": \"'Michoacan',\", \"'MORELOS',\": \"'Morelos',\", \"'NAYARIT',\": \"'Nayarit',\", \"'NUEVO\": \"'NEW\", \"LEON',\": \"LION',\", \"'OAXACA',\": \"'Oaxaca',\", \"'PUEBLA',\": \"'Puebla',\", \"'QUERETARO',\": \"'Queretaro',\", \"'QUINTANA\": \"'Quintana\", \"ROO',\": \"Roo ',\", \"'SAN\": \"'SAINT\", 'LUIS': 'LUIS', \"POTOSI',\": \"Potosi ',\", \"'SINALOA',\": \"'Sinaloa',\", \"'SONORA',\": \"'Sonora',\", \"'TABASCO',\": \"'Tabasco',\", \"'TAMAULIPAS',\": \"'Tamaulipas',\", \"'TLAXCALA',\": \"'Tlaxcala',\", \"'VERACRUZ',\": \"'Veracruz',\", \"'YUCATAN',\": \"'Yucatan',\", \"'ZACATECAS'\": \"'Zacatecas'\"}\n"
     ]
    }
   ],
   "source": [
    "#Translation for 'ENTIDAD'\n",
    "from googletrans import Translator\n",
    "\n",
    "translator = Translator()\n",
    "\n",
    "text = \"'AGUASCALIENTES', 'BAJA CALIFORNIA', 'BAJA CALIFORNIA SUR', 'CAMPECHE', 'CHIAPAS', 'CHIHUAHUA', 'COAHUILA', 'COLIMA', 'DURANGO', 'GUANAJUATO', 'GUERRERO', 'HIDALGO', 'JALISCO', 'MEXICO', 'MICHOACAN', 'MORELOS', 'NAYARIT', 'NUEVO LEON', 'OAXACA', 'PUEBLA', 'QUERETARO', 'QUINTANA ROO', 'SAN LUIS POTOSI', 'SINALOA', 'SONORA', 'TABASCO', 'TAMAULIPAS', 'TLAXCALA', 'VERACRUZ', 'YUCATAN', 'ZACATECAS'\"\n",
    "\n",
    "text_list = text.split()\n",
    "\n",
    "translated_list = []\n",
    "\n",
    "for word in text_list:\n",
    "    translated_word = translator.translate(word, src='es', dest='en').text\n",
    "    translated_list.append(translated_word)\n",
    "\n",
    "mapping_Yanzhen_Xu = dict(zip(text_list, translated_list))\n",
    "\n",
    "print(mapping_Yanzhen_Xu)\n"
   ]
  },
  {
   "cell_type": "code",
   "execution_count": 35,
   "id": "c8468f51",
   "metadata": {},
   "outputs": [],
   "source": [
    "# Define the dictionary mapping column names for 'ENTIDAD'\n",
    "# some after translation were incorrect, so I translated again.\n",
    "mapping_Yanzhen_Xu = {\n",
    "    'AGUASCALIENTES': 'Aguascalientes',\n",
    "    'BAJA CALIFORNIA': 'Lower California',\n",
    "    'BAJA CALIFORNIA SUR': 'South Lower California',\n",
    "    'CAMPECHE': 'Campeche',\n",
    "    'CHIAPAS': 'Chiapas',\n",
    "    'CHIHUAHUA': 'Chihuahua',\n",
    "    'COAHUILA': 'Coahuila',\n",
    "    'COLIMA': 'Colima',\n",
    "    'DURANGO': 'Durango',\n",
    "    'GUANAJUATO': 'Guanajuato',\n",
    "    'GUERRERO': 'Guerrero',\n",
    "    'HIDALGO': 'Hidalgo',\n",
    "    'JALISCO': 'Jalisco',\n",
    "    'MEXICO': 'Mexico',\n",
    "    'MICHOACAN': 'Michoacan',\n",
    "    'MORELOS': 'Morelos',\n",
    "    'NAYARIT': 'Nayarit',\n",
    "    'NUEVO LEON': 'Nuevo Leon',\n",
    "    'OAXACA': 'Oaxaca',\n",
    "    'PUEBLA': 'Puebla',\n",
    "    'QUERETARO': 'Queretaro',\n",
    "    'QUINTANA ROO': 'Quintana Roo',\n",
    "    'SAN LUIS POTOSI': 'San Luis Potosi',\n",
    "    'SINALOA': 'Sinaloa',\n",
    "    'SONORA': 'Sonora',\n",
    "    'TABASCO': 'Tabasco',\n",
    "    'TAMAULIPAS': 'Tamaulipas',\n",
    "    'TLAXCALA': 'Tlaxcala',\n",
    "    'VERACRUZ': 'Veracruz',\n",
    "    'YUCATAN': 'Yucatan',\n",
    "    'ZACATECAS': 'Zacatecas'\n",
    "}\n",
    "\n",
    "df = df.replace(mapping_Yanzhen_Xu)\n",
    "df.to_csv('my_data.csv', index=True)"
   ]
  },
  {
   "cell_type": "code",
   "execution_count": 37,
   "id": "07a3d379",
   "metadata": {},
   "outputs": [
    {
     "name": "stdout",
     "output_type": "stream",
     "text": [
      "{'ABRIL': 'APRIL', 'AGOSTO': 'AUGUST', 'DICIEMBRE': 'DECEMBER', 'ENERO': 'JANUARY', 'FEBRERO': 'FEBRUARY', 'JULIO': 'JULY', 'JUNIO': 'JUNE', 'MARZO': 'MARCH', 'MAYO': 'MAY', 'NOVIEMBRE': 'NOVEMBER', 'OCTUBRE': 'OCTOBER', 'SEPTIEMBRE': 'SEPTEMBER'}\n"
     ]
    }
   ],
   "source": [
    "#Translation for 'MES'\n",
    "from googletrans import Translator\n",
    "\n",
    "translator = Translator()\n",
    "spanish_words = ['ABRIL', 'AGOSTO', 'DICIEMBRE', 'ENERO', 'FEBRERO', 'JULIO', 'JUNIO', 'MARZO', 'MAYO', 'NOVIEMBRE', 'OCTUBRE', 'SEPTIEMBRE']\n",
    "english_words = []\n",
    "for word in spanish_words:\n",
    "    translation = translator.translate(word, src='es', dest='en')\n",
    "    english_words.append(translation.text)\n",
    "\n",
    "# 生成字典映射\n",
    "mapping_Yanzhen_Xu = dict(zip(spanish_words, english_words))\n",
    "print(mapping_Yanzhen_Xu)"
   ]
  },
  {
   "cell_type": "code",
   "execution_count": 38,
   "id": "35872545",
   "metadata": {},
   "outputs": [],
   "source": [
    "# Define the dictionary mapping column names for 'MES'\n",
    "mapping_Yanzhen_Xu = {'ABRIL': 'APRIL', 'AGOSTO': 'AUGUST', 'DICIEMBRE': 'DECEMBER', 'ENERO': 'JANUARY', 'FEBRERO': 'FEBRUARY', 'JULIO': 'JULY', 'JUNIO': 'JUNE', 'MARZO': 'MARCH', 'MAYO': 'MAY', 'NOVIEMBRE': 'NOVEMBER', 'OCTUBRE': 'OCTOBER', 'SEPTIEMBRE': 'SEPTEMBER'}\n",
    "\n",
    "df = df.replace(mapping_Yanzhen_Xu)\n",
    "df.to_csv('my_data.csv', index=True)"
   ]
  },
  {
   "cell_type": "code",
   "execution_count": 40,
   "id": "3d4f0b10",
   "metadata": {},
   "outputs": [
    {
     "name": "stdout",
     "output_type": "stream",
     "text": [
      "{'ANIMAL': 'ANIMAL', 'VEGETAL': 'VEGETABLE'}\n"
     ]
    }
   ],
   "source": [
    "#translation for 'GRUPO'\n",
    "from googletrans import Translator\n",
    "translator = Translator()\n",
    "spanish_words = ['ANIMAL', 'VEGETAL']\n",
    "english_words = []\n",
    "\n",
    "for word in spanish_words:\n",
    "    translation = translator.translate(word, src='es', dest='en')\n",
    "    english_words.append(translation.text)\n",
    "\n",
    "# 生成字典映射\n",
    "mapping_Yanzhen_Xu = dict(zip(spanish_words, english_words))\n",
    "print(mapping_Yanzhen_Xu)"
   ]
  },
  {
   "cell_type": "code",
   "execution_count": 41,
   "id": "ec723995",
   "metadata": {},
   "outputs": [],
   "source": [
    " #Define the dictionary mapping column names for 'GRUPO'\n",
    "mapping_Yanzhen_Xu = {'ANIMAL': 'ANIMAL', 'VEGETAL': 'VEGETABLE'}\n",
    "df = df.replace(mapping_Yanzhen_Xu)\n",
    "df.to_csv('my_data.csv', index=True)"
   ]
  },
  {
   "cell_type": "code",
   "execution_count": 52,
   "id": "a0c0c708",
   "metadata": {},
   "outputs": [
    {
     "name": "stdout",
     "output_type": "stream",
     "text": [
      "{'BONITO': 'PRETTY', 'LISA': 'Smooth', 'BERRUGATA': 'Berrugata', 'OSTION': 'OYSTER', 'JUREL': 'MACKEREL', 'RAYA Y SIMILARES': 'Raya and the like', 'ROBALO': 'BASS', 'GUACHINANGO': 'Guachinango', 'LANGOSTINO': 'SHRIMP', 'RONCO': 'HOARSE', 'ALMEJA': 'CLAM', 'MOJARRA': 'Mojarra', 'CORVINA': 'Corvina', 'RUBIA Y VILLAJAIBA': 'Rubia and Villajaiba', 'SIERRA': 'MOUNTAIN RANGE', 'PETO': 'OVERALLS', 'CABRILLA': 'Cabrilla', 'ALGAS': 'ALGAE', 'PARGO': 'Pargo', 'PULPO': 'OCTOPUS', 'CINTILLA': 'Cintilla', 'ERIZO': 'SEA URCHIN', 'BANDERA': 'FLAG', 'LENGUADO': 'SOLE', 'CARPA': 'LARGE TENT', 'BARRILETE': 'KITE', 'MERO': 'MERE', 'JAIBA': 'Jaiba', 'TIBURON': 'SHARK', 'LEBRANCHA': 'Lebracha', 'SARDINA': 'SARDINE', 'OTRAS': 'Others', 'CAMARON': 'SHRIMP', 'TRUCHA': 'TROUT', 'CALAMAR': 'SQUID', 'CAPTURA SIN REGISTRO OFICIAL': 'Capture without official registration', 'FAUNA DE ACOMPAÑAMIENTO': 'Accompaniment fauna', 'ANCHOVETA': 'Anchovy', 'ESMEDREGAL': 'ESMEDREGAL', 'ATUN': 'TUNA', 'LANGOSTA': 'LOBSTER', 'CAZON': 'DOGFISH', 'CARACOL': 'SNAIL', 'BAQUETA': 'RAMROD', 'PAMPANO': 'VINE SHOOT', 'RUBIO': 'BLOND', 'SARGAZO': 'SARGASSO', 'PECES DE ORNATO': 'Ornate fish', 'LOBINAMACARELA': 'Lobinamachala', 'ABULON': 'ABALONE', 'PEPINO DE MAR': 'SEA CUCUMBER', 'BAGRE': 'CATFISH', 'CHARAL': 'Charal', 'PIERNA': 'LEG', 'BESUGO': 'SEA BREAM'}\n"
     ]
    }
   ],
   "source": [
    "#translate 'NOMBRE_PRINCIPAL_ESPECIE'\n",
    "from googletrans import Translator\n",
    "translator = Translator()\n",
    "spanish_words = {'ABULON', 'ALGAS', 'ALMEJA', 'ANCHOVETA',\n",
    "                   'ATUN', 'BAGRE', 'BANDERA', 'BAQUETA',\n",
    "                   'BARRILETE', 'BERRUGATA', 'BESUGO',\n",
    "                   'BONITO', 'CABRILLA', 'CALAMAR', 'CAMARON',\n",
    "                   'CAPTURA SIN REGISTRO OFICIAL', 'CARACOL', 'CARPA',\n",
    "                   'CAZON', 'CHARAL', 'CINTILLA',\n",
    "                   'CORVINA', 'ERIZO', 'ESMEDREGAL',\n",
    "                   'FAUNA DE ACOMPAÑAMIENTO', 'GUACHINANGO', 'JAIBA',\n",
    "                   'JUREL', 'LANGOSTA', 'LANGOSTINO',\n",
    "                   'LEBRANCHA', 'LENGUADO', 'LISA', 'LOBINA'\n",
    "                   'MACARELA', 'MERO', 'MOJARRA', 'OSTION',\n",
    "                   'OTRAS', 'PAMPANO', 'PARGO', 'PECES DE ORNATO',\n",
    "                   'PEPINO DE MAR', 'PETO', 'PIERNA',\n",
    "                   'PULPO', 'RAYA Y SIMILARES', 'ROBALO', 'RONCO',\n",
    "                   'RUBIA Y VILLAJAIBA', 'RUBIO', 'SARDINA',\n",
    "                   'SARGAZO', 'SIERRA', 'TIBURON', 'TRUCHA'}\n",
    "\n",
    "english_words = []\n",
    "\n",
    "for word in spanish_words:\n",
    "    translation = translator.translate(word, src='es', dest='en')\n",
    "    english_words.append(translation.text)\n",
    "\n",
    "# 生成字典映射\n",
    "mapping_Yanzhen_Xu = dict(zip(spanish_words, english_words))\n",
    "print(mapping_Yanzhen_Xu)"
   ]
  },
  {
   "cell_type": "code",
   "execution_count": 56,
   "id": "4534e878",
   "metadata": {},
   "outputs": [],
   "source": [
    "#Define the dictionary mapping column names for 'NOMBRE_PRINCIPAL_ESPECIE'\n",
    "#mapping_Yanzhen_Xu =  {'ABULON': 'ABALONE', 'ALGAS': 'ALGAE', 'ALMEJA': 'CLAM', 'ANCHOVETA': 'Anchovy', 'ATUN': 'TUNA', 'BAGRE': 'CATFISH', 'BANDERA': 'FLAG', 'BAQUETA': 'RAMROD', 'BARRILETE': 'KITE', 'BERRUGATA': 'Berrugata', 'BESUGO': 'SEA BREAM', 'BONITO': 'PRETTY', 'CABRILLA': 'Cabrilla', 'CALAMAR': 'SQUID', 'CAMARON': 'SHRIMP', 'CAPTURA SIN REGISTRO OFICIAL': 'Capture without official registration', 'CARACOL': 'SNAIL', 'CARPA': 'LARGE TENT', 'CAZON': 'DOGFISH', 'CHARAL': 'Charal', 'CINTILLA': 'Cintilla', 'CORVINA': 'Corvina', 'ERIZO': 'SEA URCHIN', 'ESMEDREGAL': 'ESMEDREGAL', 'FAUNA DE ACOMPAÑAMIENTO': 'Accompaniment fauna', 'GUACHINANGO': 'Guachinango', 'JAIBA': 'Jaiba', 'JUREL': 'MACKEREL', 'LANGOSTA': 'LOBSTER', 'LANGOSTINO': 'SHRIMP', 'LEBRANCHA': 'Lebracha', 'LENGUADO': 'SOLE', 'LISA': 'Smooth', 'LOBINA': 'Lobin', 'MACARELA': 'Macarela', 'MERO': 'MERE', 'MOJARRA': 'Mojarra', 'OSTION': 'OYSTER', 'OTRAS': 'Others', 'PAMPANO': 'VINE SHOOT', 'PARGO': 'Pargo', 'PECES DE ORNATO': 'Ornate fish', 'PEPINO DE MAR': 'SEA CUCUMBER', 'PETO': 'OVERALLS', 'PIERNA': 'LEG', 'PULPO': 'OCTOPUS', 'RAYA Y SIMILARES': 'Raya and the like', 'ROBALO': 'BASS', 'RONCO': 'HOARSE', 'RUBIA Y VILLAJAIBA': 'Rubia and Villajaiba', 'RUBIO': 'BLOND', 'SARDINA': 'SARDINE', 'SARGAZO': 'SARGASSO', 'SIERRA': 'MOUNTAIN RANGE', 'TIBURON': 'SHARK', 'TRUCHA': 'TROUT'}\n",
    "mapping_Yanzhen_Xu = {'BONITO': 'PRETTY', 'BERRUGATA': 'Berrugata', 'OSTION': 'OYSTER', 'JUREL': 'MACKEREL', 'RAYA Y SIMILARES': 'Raya and the like', 'ROBALO': 'BASS', 'GUACHINANGO': 'Guachinango', 'LANGOSTINO': 'SHRIMP', 'RONCO': 'HOARSE', 'ALMEJA': 'CLAM', 'MOJARRA': 'Mojarra', 'CORVINA': 'Corvina', 'RUBIA Y VILLAJAIBA': 'Rubia and Villajaiba', 'SIERRA': 'MOUNTAIN RANGE', 'PETO': 'OVERALLS', 'CABRILLA': 'Cabrilla', 'ALGAS': 'ALGAE', 'PARGO': 'Pargo', 'PULPO': 'OCTOPUS', 'CINTILLA': 'Cintilla', 'ERIZO': 'SEA URCHIN', 'BANDERA': 'FLAG', 'CARPA': 'LARGE TENT', 'BARRILETE': 'KITE', 'MERO': 'MERE', 'JAIBA': 'Jaiba', 'TIBURON': 'SHARK', 'LEBRANCHA': 'Lebracha', 'SARDINA': 'SARDINE', 'OTRAS': 'Others', 'CAMARON': 'SHRIMP', 'TRUCHA': 'TROUT', 'CALAMAR': 'SQUID', 'CAPTURA SIN REGISTRO OFICIAL': 'Capture without official registration', 'FAUNA DE ACOMPAÃAMIENTO': 'Accompaniment fauna', 'ANCHOVETA': 'Anchovy', 'ESMEDREGAL': 'Swordfish', 'ATUN': 'TUNA', 'LANGOSTA': 'LOBSTER', 'CAZON': 'DOGFISH', 'CARACOL': 'SNAIL', 'BAQUETA': 'RAMROD', 'PAMPANO': 'VINE SHOOT', 'RUBIO': 'BLOND', 'LENGUADOLISA': 'Language', 'SARGAZO': 'SARGASSO', 'PECES DE ORNATO': 'Ornate fish', 'LOBINAMACARELA': 'Lobinamachala', 'ABULON': 'ABALONE', 'PEPINO DE MAR': 'SEA CUCUMBER', 'BAGRE': 'CATFISH', 'CHARAL': 'Charal', 'PIERNA': 'LEG', 'BESUGO': 'SEA BREAM'}\n",
    "df = df.replace(mapping_Yanzhen_Xu)\n",
    "df.to_csv('my_data.csv', index=True)"
   ]
  },
  {
   "cell_type": "code",
   "execution_count": 57,
   "id": "5b5f7b26",
   "metadata": {},
   "outputs": [
    {
     "name": "stdout",
     "output_type": "stream",
     "text": [
      "{'CAPTURA': 'CAPTURE', 'ACUACULTURA': 'Aquaculture'}\n"
     ]
    }
   ],
   "source": [
    "#translate 'ORIGIN'\n",
    "from googletrans import Translator\n",
    "translator = Translator()\n",
    "spanish_words = {'ACUACULTURA', 'CAPTURA'}\n",
    "english_words = []\n",
    "\n",
    "for word in spanish_words:\n",
    "    translation = translator.translate(word, src='es', dest='en')\n",
    "    english_words.append(translation.text)\n",
    "\n",
    "# 生成字典映射\n",
    "mapping_Yanzhen_Xu = dict(zip(spanish_words, english_words))\n",
    "print(mapping_Yanzhen_Xu)"
   ]
  },
  {
   "cell_type": "code",
   "execution_count": 58,
   "id": "04196fc9",
   "metadata": {},
   "outputs": [],
   "source": [
    "#Define the dictionary mapping column names for 'ORIGIN'\n",
    "mapping_Yanzhen_Xu = {'CAPTURA': 'CAPTURE', 'ACUACULTURA': 'Aquaculture'}\n",
    "\n",
    "df = df.replace(mapping_Yanzhen_Xu)\n",
    "df.to_csv('my_data.csv', index=True)"
   ]
  },
  {
   "cell_type": "code",
   "execution_count": null,
   "id": "968af2f6",
   "metadata": {},
   "outputs": [],
   "source": []
  }
 ],
 "metadata": {
  "kernelspec": {
   "display_name": "Python 3 (ipykernel)",
   "language": "python",
   "name": "python3"
  },
  "language_info": {
   "codemirror_mode": {
    "name": "ipython",
    "version": 3
   },
   "file_extension": ".py",
   "mimetype": "text/x-python",
   "name": "python",
   "nbconvert_exporter": "python",
   "pygments_lexer": "ipython3",
   "version": "3.10.9"
  }
 },
 "nbformat": 4,
 "nbformat_minor": 5
}
