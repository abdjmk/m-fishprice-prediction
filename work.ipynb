{
 "cells": [
  {
   "cell_type": "code",
   "execution_count": 29,
   "metadata": {},
   "outputs": [],
   "source": [
    "import pandas as pd\n",
    "import numpy as np"
   ]
  },
  {
   "cell_type": "code",
   "execution_count": 30,
   "metadata": {},
   "outputs": [
    {
     "data": {
      "text/plain": [
       "array(['ANO', 'LITORAL', 'ENTIDAD', 'MES', 'GRUPO',\n",
       "       'NOMBRE_PRINCIPAL_ESPECIE', 'ORIGEN', 'ORIGEN DEL CAMARON',\n",
       "       'TIPO_AGUA', 'DESTINO', 'ACUACULTURA', 'PESO_DESEMBARCADO_KG',\n",
       "       'PESO_VIVO_KG', 'VALOR_MEXICAN_PESOS'], dtype=object)"
      ]
     },
     "execution_count": 30,
     "metadata": {},
     "output_type": "execute_result"
    }
   ],
   "source": [
    "# df = pd.read_csv('Fisheries_Production_Mexico_2005to2018.csv')\n",
    "df = pd.read_csv('Fisheries_Production_Mexico_2005to2018.csv', encoding='latin-1')\n",
    "df.columns.values"
   ]
  },
  {
   "cell_type": "code",
   "execution_count": 31,
   "metadata": {},
   "outputs": [],
   "source": [
    "# Dictionary mapping assignments for Alice n Jamak\n",
    "# ANO until Origin - Alice\n",
    "# ORIGEN DEL CAMARON - VALOR_MEXICAN_PESOS - Jamak"
   ]
  },
  {
   "cell_type": "code",
   "execution_count": 32,
   "metadata": {},
   "outputs": [
    {
     "data": {
      "text/plain": [
       "array(['YEAR', 'COAST', 'ENTITY', 'MONTH', 'GROUP', 'MAIN_SPECIES_NAME',\n",
       "       'ORIGIN', 'ORIGIN_OF_THE_SHRIMP', 'WATER_TYPE', 'DESTINATION',\n",
       "       'AQUACULTURE', 'LANDED_WEIGHT_KG', 'LIVE_WEIGHT_KG',\n",
       "       'VALUE_MEXICAN_PESOS'], dtype=object)"
      ]
     },
     "execution_count": 32,
     "metadata": {},
     "output_type": "execute_result"
    }
   ],
   "source": [
    "# Define a dictionary mapping column names\n",
    "mapping = {'ANO': 'YEAR', 'LITORAL': 'COAST','ENTIDAD':'ENTITY','MES':'MONTH','GRUPO':'GROUP','NOMBRE_PRINCIPAL_ESPECIE':'MAIN_SPECIES_NAME'\n",
    "            ,'ORIGEN':'ORIGIN','ORIGEN DEL CAMARON':'ORIGIN_OF_THE_SHRIMP','TIPO_AGUA':'WATER_TYPE','DESTINO':'DESTINATION','ACUACULTURA':'AQUACULTURE'\n",
    "            ,'PESO_DESEMBARCADO_KG':'LANDED_WEIGHT_KG','PESO_VIVO_KG':'LIVE_WEIGHT_KG','VALOR_MEXICAN_PESOS':'VALUE_MEXICAN_PESOS'}\n",
    "\n",
    "# Use the rename() method to apply the mapping\n",
    "df = df.rename(columns=mapping)\n",
    "df.columns.values"
   ]
  },
  {
   "cell_type": "code",
   "execution_count": 33,
   "metadata": {},
   "outputs": [
    {
     "name": "stdout",
     "output_type": "stream",
     "text": [
      "['NO APLICA' 'CULTIVO' 'MAR ABIERTO' 'ESTEROS, LAGUNAS Y BAHIAS']\n",
      "['SALOBRE / MARINA' 'DULCE']\n",
      "['CONSUMO HUMANO DIRECTO' 'CONSUMO HUMANO INDIRECTO' 'USO INDUSTRIAL']\n",
      "['NO APLICA' 'SISTEMAS CONTROLADOS' 'PESQUERIA ACUACULTURAL']\n",
      "[   292.5      334.4     6765.52  ...  50167.     58190.    204055.656]\n",
      "[   308.5       334.4      6765.52   ... 202667.5223  58190.\n",
      " 204055.656 ]\n"
     ]
    }
   ],
   "source": [
    "###### jamak ######\n",
    "# print unique values in ORIGIN_OF_THE_SHRIMP\n",
    "print(df['ORIGIN_OF_THE_SHRIMP'].unique())\n",
    "# print unique values in WATER_TYPE\n",
    "print(df['WATER_TYPE'].unique())\n",
    "# print unique values in DESTINATION\n",
    "print(df['DESTINATION'].unique())\n",
    "# print unique values in DESTINATION\n",
    "print(df['AQUACULTURE'].unique())\n",
    "# print unique values in DESTINATION\n",
    "print(df['LANDED_WEIGHT_KG'].unique())\n",
    "# print unique values in DESTINATION\n",
    "print(df['LIVE_WEIGHT_KG'].unique())"
   ]
  },
  {
   "cell_type": "code",
   "execution_count": 34,
   "metadata": {},
   "outputs": [
    {
     "name": "stdout",
     "output_type": "stream",
     "text": [
      "['NOT APPLICABLE' 'CULTIVATION' 'OPEN SEA' 'ESTUARY, LAGOONS AND BAYS']\n",
      "['BRACKY/MARINE' 'FRESHWATER']\n",
      "['DIRECT HUMAN CONSUMPTION' 'INDIRECT HUMAN CONSUMPTION' 'INDUSTRIAL USE']\n",
      "['NOT APPLICABLE' 'CONTROLLED SYSTEMS' 'AQUACULTURAL FISHERY']\n"
     ]
    }
   ],
   "source": [
    "# Define a dictionary mapping column names\n",
    "mapping_jamak = {'NO APLICA': 'NOT APPLICABLE', 'CULTIVO': 'CULTIVATION','MAR ABIERTO':'OPEN SEA', 'ESTEROS, LAGUNAS Y BAHIAS':'ESTUARY, LAGOONS AND BAYS'\n",
    "            ,'SALOBRE / MARINA':'BRACKY/MARINE','DULCE':'FRESHWATER'\n",
    "            ,'CONSUMO HUMANO DIRECTO':'DIRECT HUMAN CONSUMPTION','CONSUMO HUMANO INDIRECTO':'INDIRECT HUMAN CONSUMPTION','USO INDUSTRIAL':'INDUSTRIAL USE'\n",
    "            ,'SISTEMAS CONTROLADOS':'CONTROLLED SYSTEMS','PESQUERIA ACUACULTURAL':'AQUACULTURAL FISHERY'}\n",
    "\n",
    "df = df.replace(mapping_jamak)\n",
    "\n",
    "# print unique values in ORIGIN_OF_THE_SHRIMP\n",
    "print(df['ORIGIN_OF_THE_SHRIMP'].unique())\n",
    "# print unique values in WATER_TYPE\n",
    "print(df['WATER_TYPE'].unique())\n",
    "# print unique values in DESTINATION\n",
    "print(df['DESTINATION'].unique())\n",
    "# print unique values in DESTINATION\n",
    "print(df['AQUACULTURE'].unique())"
   ]
  },
  {
   "cell_type": "code",
   "execution_count": 36,
   "metadata": {},
   "outputs": [
    {
     "name": "stdout",
     "output_type": "stream",
     "text": [
      "<class 'pandas.core.frame.DataFrame'>\n",
      "RangeIndex: 134354 entries, 0 to 134353\n",
      "Data columns (total 14 columns):\n",
      " #   Column                Non-Null Count   Dtype  \n",
      "---  ------                --------------   -----  \n",
      " 0   YEAR                  134354 non-null  int64  \n",
      " 1   COAST                 134354 non-null  object \n",
      " 2   ENTITY                134354 non-null  object \n",
      " 3   MONTH                 134354 non-null  object \n",
      " 4   GROUP                 134354 non-null  object \n",
      " 5   MAIN_SPECIES_NAME     134354 non-null  object \n",
      " 6   ORIGIN                134354 non-null  object \n",
      " 7   ORIGIN_OF_THE_SHRIMP  134354 non-null  object \n",
      " 8   WATER_TYPE            134354 non-null  object \n",
      " 9   DESTINATION           134354 non-null  object \n",
      " 10  AQUACULTURE           134354 non-null  object \n",
      " 11  LANDED_WEIGHT_KG      134354 non-null  float64\n",
      " 12  LIVE_WEIGHT_KG        134354 non-null  float64\n",
      " 13  VALUE_MEXICAN_PESOS   134354 non-null  float64\n",
      "dtypes: float64(3), int64(1), object(10)\n",
      "memory usage: 14.4+ MB\n"
     ]
    }
   ],
   "source": [
    "df.info()"
   ]
  },
  {
   "cell_type": "code",
   "execution_count": 37,
   "metadata": {},
   "outputs": [
    {
     "data": {
      "text/html": [
       "<div>\n",
       "<style scoped>\n",
       "    .dataframe tbody tr th:only-of-type {\n",
       "        vertical-align: middle;\n",
       "    }\n",
       "\n",
       "    .dataframe tbody tr th {\n",
       "        vertical-align: top;\n",
       "    }\n",
       "\n",
       "    .dataframe thead th {\n",
       "        text-align: right;\n",
       "    }\n",
       "</style>\n",
       "<table border=\"1\" class=\"dataframe\">\n",
       "  <thead>\n",
       "    <tr style=\"text-align: right;\">\n",
       "      <th></th>\n",
       "      <th>YEAR</th>\n",
       "      <th>LANDED_WEIGHT_KG</th>\n",
       "      <th>LIVE_WEIGHT_KG</th>\n",
       "      <th>VALUE_MEXICAN_PESOS</th>\n",
       "    </tr>\n",
       "  </thead>\n",
       "  <tbody>\n",
       "    <tr>\n",
       "      <th>count</th>\n",
       "      <td>134354.000000</td>\n",
       "      <td>1.343540e+05</td>\n",
       "      <td>1.343540e+05</td>\n",
       "      <td>1.343540e+05</td>\n",
       "    </tr>\n",
       "    <tr>\n",
       "      <th>mean</th>\n",
       "      <td>2011.624090</td>\n",
       "      <td>1.655530e+05</td>\n",
       "      <td>1.810713e+05</td>\n",
       "      <td>2.428558e+06</td>\n",
       "    </tr>\n",
       "    <tr>\n",
       "      <th>std</th>\n",
       "      <td>4.055934</td>\n",
       "      <td>1.291822e+06</td>\n",
       "      <td>1.463263e+06</td>\n",
       "      <td>2.185640e+07</td>\n",
       "    </tr>\n",
       "    <tr>\n",
       "      <th>min</th>\n",
       "      <td>2005.000000</td>\n",
       "      <td>0.000000e+00</td>\n",
       "      <td>0.000000e+00</td>\n",
       "      <td>0.000000e+00</td>\n",
       "    </tr>\n",
       "    <tr>\n",
       "      <th>25%</th>\n",
       "      <td>2008.000000</td>\n",
       "      <td>1.826000e+03</td>\n",
       "      <td>1.859000e+03</td>\n",
       "      <td>3.160704e+04</td>\n",
       "    </tr>\n",
       "    <tr>\n",
       "      <th>50%</th>\n",
       "      <td>2012.000000</td>\n",
       "      <td>1.087224e+04</td>\n",
       "      <td>1.124487e+04</td>\n",
       "      <td>1.893804e+05</td>\n",
       "    </tr>\n",
       "    <tr>\n",
       "      <th>75%</th>\n",
       "      <td>2015.000000</td>\n",
       "      <td>5.469835e+04</td>\n",
       "      <td>5.757762e+04</td>\n",
       "      <td>9.360000e+05</td>\n",
       "    </tr>\n",
       "    <tr>\n",
       "      <th>max</th>\n",
       "      <td>2018.000000</td>\n",
       "      <td>8.045294e+07</td>\n",
       "      <td>9.332541e+07</td>\n",
       "      <td>2.020440e+09</td>\n",
       "    </tr>\n",
       "  </tbody>\n",
       "</table>\n",
       "</div>"
      ],
      "text/plain": [
       "                YEAR  LANDED_WEIGHT_KG  LIVE_WEIGHT_KG  VALUE_MEXICAN_PESOS\n",
       "count  134354.000000      1.343540e+05    1.343540e+05         1.343540e+05\n",
       "mean     2011.624090      1.655530e+05    1.810713e+05         2.428558e+06\n",
       "std         4.055934      1.291822e+06    1.463263e+06         2.185640e+07\n",
       "min      2005.000000      0.000000e+00    0.000000e+00         0.000000e+00\n",
       "25%      2008.000000      1.826000e+03    1.859000e+03         3.160704e+04\n",
       "50%      2012.000000      1.087224e+04    1.124487e+04         1.893804e+05\n",
       "75%      2015.000000      5.469835e+04    5.757762e+04         9.360000e+05\n",
       "max      2018.000000      8.045294e+07    9.332541e+07         2.020440e+09"
      ]
     },
     "execution_count": 37,
     "metadata": {},
     "output_type": "execute_result"
    }
   ],
   "source": [
    "df.describe()"
   ]
  },
  {
   "cell_type": "code",
   "execution_count": 38,
   "metadata": {},
   "outputs": [
    {
     "ename": "ModuleNotFoundError",
     "evalue": "No module named 'pandas_profiling'",
     "output_type": "error",
     "traceback": [
      "\u001b[0;31m---------------------------------------------------------------------------\u001b[0m",
      "\u001b[0;31mModuleNotFoundError\u001b[0m                       Traceback (most recent call last)",
      "Cell \u001b[0;32mIn[38], line 1\u001b[0m\n\u001b[0;32m----> 1\u001b[0m \u001b[39mfrom\u001b[39;00m \u001b[39mpandas_profiling\u001b[39;00m \u001b[39mimport\u001b[39;00m ProfileReport\n\u001b[1;32m      2\u001b[0m ProfileReport(df, title\u001b[39m=\u001b[39m\u001b[39m\"\u001b[39m\u001b[39mEDA Report\u001b[39m\u001b[39m\"\u001b[39m)\n",
      "\u001b[0;31mModuleNotFoundError\u001b[0m: No module named 'pandas_profiling'"
     ]
    }
   ],
   "source": [
    "from pandas_profiling import ProfileReport\n",
    "ProfileReport(df, title=\"EDA Report\")"
   ]
  }
 ],
 "metadata": {
  "kernelspec": {
   "display_name": "Python 3",
   "language": "python",
   "name": "python3"
  },
  "language_info": {
   "codemirror_mode": {
    "name": "ipython",
    "version": 3
   },
   "file_extension": ".py",
   "mimetype": "text/x-python",
   "name": "python",
   "nbconvert_exporter": "python",
   "pygments_lexer": "ipython3",
   "version": "3.10.8"
  },
  "orig_nbformat": 4
 },
 "nbformat": 4,
 "nbformat_minor": 2
}
