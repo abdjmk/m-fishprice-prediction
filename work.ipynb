{
 "cells": [
  {
   "cell_type": "code",
   "execution_count": 9,
   "metadata": {},
   "outputs": [],
   "source": [
    "import pandas as pd\n",
    "import numpy as np"
   ]
  },
  {
   "cell_type": "code",
   "execution_count": 10,
   "metadata": {},
   "outputs": [
    {
     "data": {
      "text/plain": [
       "array(['ANO', 'LITORAL', 'ENTIDAD', 'MES', 'GRUPO',\n",
       "       'NOMBRE_PRINCIPAL_ESPECIE', 'ORIGEN', 'ORIGEN DEL CAMARON',\n",
       "       'TIPO_AGUA', 'DESTINO', 'ACUACULTURA', 'PESO_DESEMBARCADO_KG',\n",
       "       'PESO_VIVO_KG', 'VALOR_MEXICAN_PESOS'], dtype=object)"
      ]
     },
     "execution_count": 10,
     "metadata": {},
     "output_type": "execute_result"
    }
   ],
   "source": [
    "# df = pd.read_csv('Fisheries_Production_Mexico_2005to2018.csv')\n",
    "df = pd.read_csv('Fisheries_Production_Mexico_2005to2018.csv', encoding='latin-1')\n",
    "df.columns.values"
   ]
  },
  {
   "cell_type": "code",
   "execution_count": null,
   "metadata": {},
   "outputs": [],
   "source": [
    "# Dictionary mapping assignments for Alice n Jamak\n",
    "# ANO until Origin - Alice\n",
    "# ORIGEN DEL CAMARON - VALOR_MEXICAN_PESOS - Jamak"
   ]
  }
 ],
 "metadata": {
  "kernelspec": {
   "display_name": "Python 3",
   "language": "python",
   "name": "python3"
  },
  "language_info": {
   "codemirror_mode": {
    "name": "ipython",
    "version": 3
   },
   "file_extension": ".py",
   "mimetype": "text/x-python",
   "name": "python",
   "nbconvert_exporter": "python",
   "pygments_lexer": "ipython3",
   "version": "3.10.8"
  },
  "orig_nbformat": 4
 },
 "nbformat": 4,
 "nbformat_minor": 2
}
