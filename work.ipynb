{
 "cells": [
  {
   "cell_type": "code",
   "execution_count": 23,
   "metadata": {},
   "outputs": [],
   "source": [
    "import pandas as pd\n",
    "import numpy as np"
   ]
  },
  {
   "cell_type": "code",
   "execution_count": 24,
   "metadata": {},
   "outputs": [
    {
     "data": {
      "text/plain": [
       "array(['ANO', 'LITORAL', 'ENTIDAD', 'MES', 'GRUPO',\n",
       "       'NOMBRE_PRINCIPAL_ESPECIE', 'ORIGEN', 'ORIGEN DEL CAMARON',\n",
       "       'TIPO_AGUA', 'DESTINO', 'ACUACULTURA', 'PESO_DESEMBARCADO_KG',\n",
       "       'PESO_VIVO_KG', 'VALOR_MEXICAN_PESOS'], dtype=object)"
      ]
     },
     "execution_count": 24,
     "metadata": {},
     "output_type": "execute_result"
    }
   ],
   "source": [
    "# df = pd.read_csv('Fisheries_Production_Mexico_2005to2018.csv')\n",
    "df = pd.read_csv('Fisheries_Production_Mexico_2005to2018.csv', encoding='latin-1')\n",
    "df.columns.values"
   ]
  },
  {
   "cell_type": "code",
   "execution_count": 25,
   "metadata": {},
   "outputs": [],
   "source": [
    "# Dictionary mapping assignments for Alice n Jamak\n",
    "# ANO until Origin - Alice\n",
    "# ORIGEN DEL CAMARON - VALOR_MEXICAN_PESOS - Jamak"
   ]
  },
  {
   "cell_type": "code",
   "execution_count": 26,
   "metadata": {},
   "outputs": [
    {
     "data": {
      "text/plain": [
       "array(['YEAR', 'COAST', 'ENTITY', 'MONTH', 'GROUP', 'MAIN_SPECIES_NAME',\n",
       "       'ORIGIN', 'ORIGIN_OF_THE_SHRIMP', 'WATER_TYPE', 'DESTINATION',\n",
       "       'AQUACULTURE', 'LANDED_WEIGHT_KG', 'LIVE_WEIGHT_KG',\n",
       "       'VALUE_MEXICAN_PESOS'], dtype=object)"
      ]
     },
     "execution_count": 26,
     "metadata": {},
     "output_type": "execute_result"
    }
   ],
   "source": [
    "# Define a dictionary mapping column names\n",
    "mapping = {'ANO': 'YEAR', 'LITORAL': 'COAST','ENTIDAD':'ENTITY','MES':'MONTH','GRUPO':'GROUP','NOMBRE_PRINCIPAL_ESPECIE':'MAIN_SPECIES_NAME'\n",
    "            ,'ORIGEN':'ORIGIN','ORIGEN DEL CAMARON':'ORIGIN_OF_THE_SHRIMP','TIPO_AGUA':'WATER_TYPE','DESTINO':'DESTINATION','ACUACULTURA':'AQUACULTURE'\n",
    "            ,'PESO_DESEMBARCADO_KG':'LANDED_WEIGHT_KG','PESO_VIVO_KG':'LIVE_WEIGHT_KG','VALOR_MEXICAN_PESOS':'VALUE_MEXICAN_PESOS'}\n",
    "\n",
    "# Use the rename() method to apply the mapping\n",
    "df = df.rename(columns=mapping)\n",
    "df.columns.values"
   ]
  },
  {
   "cell_type": "code",
   "execution_count": 27,
   "metadata": {},
   "outputs": [
    {
     "name": "stdout",
     "output_type": "stream",
     "text": [
      "['NO APLICA' 'CULTIVO' 'MAR ABIERTO' 'ESTEROS, LAGUNAS Y BAHIAS']\n",
      "['SALOBRE / MARINA' 'DULCE']\n",
      "['CONSUMO HUMANO DIRECTO' 'CONSUMO HUMANO INDIRECTO' 'USO INDUSTRIAL']\n",
      "['NO APLICA' 'SISTEMAS CONTROLADOS' 'PESQUERIA ACUACULTURAL']\n",
      "[   292.5      334.4     6765.52  ...  50167.     58190.    204055.656]\n",
      "[   308.5       334.4      6765.52   ... 202667.5223  58190.\n",
      " 204055.656 ]\n"
     ]
    }
   ],
   "source": [
    "###### jamak ######\n",
    "# print unique values in ORIGIN_OF_THE_SHRIMP\n",
    "print(df['ORIGIN_OF_THE_SHRIMP'].unique())\n",
    "# print unique values in WATER_TYPE\n",
    "print(df['WATER_TYPE'].unique())\n",
    "# print unique values in DESTINATION\n",
    "print(df['DESTINATION'].unique())\n",
    "# print unique values in DESTINATION\n",
    "print(df['AQUACULTURE'].unique())\n",
    "# print unique values in DESTINATION\n",
    "print(df['LANDED_WEIGHT_KG'].unique())\n",
    "# print unique values in DESTINATION\n",
    "print(df['LIVE_WEIGHT_KG'].unique())"
   ]
  },
  {
   "cell_type": "code",
   "execution_count": 28,
   "metadata": {},
   "outputs": [
    {
     "name": "stdout",
     "output_type": "stream",
     "text": [
      "['NOT APPLICABLE' 'CULTIVATION' 'OPEN SEA' 'ESTUARY, LAGOONS AND BAYS']\n",
      "['BRACKY/MARINE' 'FRESHWATER']\n",
      "['DIRECT HUMAN CONSUMPTION' 'INDIRECT HUMAN CONSUMPTION' 'INDUSTRIAL USE']\n",
      "['NOT APPLICABLE' 'CONTROLLED SYSTEMS' 'AQUACULTURAL FISHERY']\n"
     ]
    }
   ],
   "source": [
    "# Define a dictionary mapping column names\n",
    "mapping_jamak = {'NO APLICA': 'NOT APPLICABLE', 'CULTIVO': 'CULTIVATION','MAR ABIERTO':'OPEN SEA', 'ESTEROS, LAGUNAS Y BAHIAS':'ESTUARY, LAGOONS AND BAYS'\n",
    "            ,'SALOBRE / MARINA':'BRACKY/MARINE','DULCE':'FRESHWATER'\n",
    "            ,'CONSUMO HUMANO DIRECTO':'DIRECT HUMAN CONSUMPTION','CONSUMO HUMANO INDIRECTO':'INDIRECT HUMAN CONSUMPTION','USO INDUSTRIAL':'INDUSTRIAL USE'\n",
    "            ,'SISTEMAS CONTROLADOS':'CONTROLLED SYSTEMS','PESQUERIA ACUACULTURAL':'AQUACULTURAL FISHERY'}\n",
    "\n",
    "df = df.replace(mapping_jamak)\n",
    "\n",
    "# print unique values in ORIGIN_OF_THE_SHRIMP\n",
    "print(df['ORIGIN_OF_THE_SHRIMP'].unique())\n",
    "# print unique values in WATER_TYPE\n",
    "print(df['WATER_TYPE'].unique())\n",
    "# print unique values in DESTINATION\n",
    "print(df['DESTINATION'].unique())\n",
    "# print unique values in DESTINATION\n",
    "print(df['AQUACULTURE'].unique())"
   ]
  }
 ],
 "metadata": {
  "kernelspec": {
   "display_name": "Python 3",
   "language": "python",
   "name": "python3"
  },
  "language_info": {
   "codemirror_mode": {
    "name": "ipython",
    "version": 3
   },
   "file_extension": ".py",
   "mimetype": "text/x-python",
   "name": "python",
   "nbconvert_exporter": "python",
   "pygments_lexer": "ipython3",
   "version": "3.10.8"
  },
  "orig_nbformat": 4
 },
 "nbformat": 4,
 "nbformat_minor": 2
}
